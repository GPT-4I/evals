{
 "cells": [
  {
   "cell_type": "code",
   "execution_count": null,
   "metadata": {},
   "outputs": [],
   "source": [
    "import pandas as pd\n",
    "import os\n",
    "\n",
    "def get_data(data_file, columns_file):\n",
    "    input_path = os.path.join(os.getcwd(), \"datasets\")\n",
    "    columns = pd.read_csv(os.path.join(input_path, columns_file), sep=\"\\t\", header=None)\n",
    "    columns = columns[0].str.partition(\" (from \")[0].tolist()\n",
    "    columns.insert(0, \"Name\")\n",
    "    return pd.read_csv(os.path.join(input_path, data_file), sep=\"\\t\", names=columns)\n",
    "\n",
    "data_file = \"Untitled spreadsheet - Sheet1.tsv\"\n",
    "columns_file = \"Untitled spreadsheet - Sheet2.tsv\"\n",
    "df = get_data(data_file, columns_file)\n",
    "\n",
    "data_file = \"Untitled spreadsheet - Sheet3.tsv\"\n",
    "columns_file = \"Untitled spreadsheet - Sheet4.tsv\"\n",
    "df0 = get_data(data_file, columns_file)\n",
    "\n",
    "def update_df(df, df0):\n",
    "    rows = []\n",
    "    for r in range(len(df0)):\n",
    "        if df0.iloc[df0.last_valid_index()-r].Email == df.iloc[df.last_valid_index()].Email:\n",
    "            return pd.concat([df,pd.DataFrame(rows)],ignore_index=True)\n",
    "        else:\n",
    "            rows.insert(0,pd.Series(df0.iloc[df0.last_valid_index()-r],index=df.columns))\n",
    "            rows[0].Run = \"2023 podzim\"\n",
    "    return pd.concat([df,pd.DataFrame(rows)],ignore_index=True)\n",
    "\n",
    "df = update_df(df, df0)"
   ]
  },
  {
   "cell_type": "code",
   "execution_count": 79,
   "metadata": {},
   "outputs": [],
   "source": [
    "report_df = pd.DataFrame({\n",
    "    'Applications': [len(df)],\n",
    "    'Participants': [len(df[df['Participation'] > 0])],\n",
    "    'Dropout': len(df) - len(df[df['Participation'] > 0]) / len(df) * 100\n",
    "})"
   ]
  },
  {
   "cell_type": "code",
   "execution_count": 74,
   "metadata": {},
   "outputs": [],
   "source": [
    "report_df.Dropout = report_df.Dropout.round(1)"
   ]
  },
  {
   "cell_type": "code",
   "execution_count": 75,
   "metadata": {},
   "outputs": [
    {
     "data": {
      "text/html": [
       "<div>\n",
       "<style scoped>\n",
       "    .dataframe tbody tr th:only-of-type {\n",
       "        vertical-align: middle;\n",
       "    }\n",
       "\n",
       "    .dataframe tbody tr th {\n",
       "        vertical-align: top;\n",
       "    }\n",
       "\n",
       "    .dataframe thead th {\n",
       "        text-align: right;\n",
       "    }\n",
       "</style>\n",
       "<table border=\"1\" class=\"dataframe\">\n",
       "  <thead>\n",
       "    <tr style=\"text-align: right;\">\n",
       "      <th></th>\n",
       "      <th>Applications</th>\n",
       "      <th>Participants</th>\n",
       "      <th>Dropout</th>\n",
       "    </tr>\n",
       "  </thead>\n",
       "  <tbody>\n",
       "    <tr>\n",
       "      <th>0</th>\n",
       "      <td>266</td>\n",
       "      <td>171</td>\n",
       "      <td>35.7</td>\n",
       "    </tr>\n",
       "  </tbody>\n",
       "</table>\n",
       "</div>"
      ],
      "text/plain": [
       "   Applications  Participants  Dropout\n",
       "0           266           171     35.7"
      ]
     },
     "execution_count": 75,
     "metadata": {},
     "output_type": "execute_result"
    }
   ],
   "source": [
    "report_df"
   ]
  }
 ],
 "metadata": {
  "kernelspec": {
   "display_name": "Python 3",
   "language": "python",
   "name": "python3"
  },
  "language_info": {
   "codemirror_mode": {
    "name": "ipython",
    "version": 3
   },
   "file_extension": ".py",
   "mimetype": "text/x-python",
   "name": "python",
   "nbconvert_exporter": "python",
   "pygments_lexer": "ipython3",
   "version": "3.10.8"
  },
  "orig_nbformat": 4
 },
 "nbformat": 4,
 "nbformat_minor": 2
}
