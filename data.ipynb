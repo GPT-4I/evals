{
 "cells": [
  {
   "cell_type": "code",
   "execution_count": 56,
   "metadata": {},
   "outputs": [
    {
     "data": {
      "text/html": [
       "<div>\n",
       "<style scoped>\n",
       "    .dataframe tbody tr th:only-of-type {\n",
       "        vertical-align: middle;\n",
       "    }\n",
       "\n",
       "    .dataframe tbody tr th {\n",
       "        vertical-align: top;\n",
       "    }\n",
       "\n",
       "    .dataframe thead th {\n",
       "        text-align: right;\n",
       "    }\n",
       "</style>\n",
       "<table border=\"1\" class=\"dataframe\">\n",
       "  <thead>\n",
       "    <tr style=\"text-align: right;\">\n",
       "      <th></th>\n",
       "      <th>Applications</th>\n",
       "      <th>Participants</th>\n",
       "      <th>Completions</th>\n",
       "      <th>Total attendance</th>\n",
       "      <th>Mean attendance</th>\n",
       "      <th>Dropout</th>\n",
       "      <th>Completions rate</th>\n",
       "    </tr>\n",
       "  </thead>\n",
       "  <tbody>\n",
       "    <tr>\n",
       "      <th>All seasons</th>\n",
       "      <td>270</td>\n",
       "      <td>171</td>\n",
       "      <td>107</td>\n",
       "      <td>955</td>\n",
       "      <td>4.0</td>\n",
       "      <td>30.8</td>\n",
       "      <td>43.3</td>\n",
       "    </tr>\n",
       "  </tbody>\n",
       "</table>\n",
       "</div>"
      ],
      "text/plain": [
       "             Applications  Participants  Completions  Total attendance  \\\n",
       "All seasons           270           171          107               955   \n",
       "\n",
       "             Mean attendance  Dropout  Completions rate  \n",
       "All seasons              4.0     30.8              43.3  "
      ]
     },
     "execution_count": 56,
     "metadata": {},
     "output_type": "execute_result"
    }
   ],
   "source": [
    "import pandas as pd\n",
    "import os\n",
    "\n",
    "def get_data(data_file, columns_file):\n",
    "    input_path = os.path.join(os.getcwd(), \"datasets\")\n",
    "    columns = pd.read_csv(os.path.join(input_path, columns_file), sep=\"\\t\", header=None)\n",
    "    columns = columns[0].str.partition(\" (from \")[0].tolist()\n",
    "    columns.insert(0, \"Name\")\n",
    "    return pd.read_csv(os.path.join(input_path, data_file), sep=\"\\t\", names=columns)\n",
    "\n",
    "data_file = \"Untitled spreadsheet - Sheet1.tsv\"\n",
    "columns_file = \"Untitled spreadsheet - Sheet2.tsv\"\n",
    "df = get_data(data_file, columns_file)\n",
    "\n",
    "def report(df, index, df0=df):\n",
    "    report_df = pd.DataFrame(index=[index])\n",
    "    report_df['Applications'] = len(df)\n",
    "    report_df['Participants'] = len(df[df['Participation'] > 0])\n",
    "    report_df['Completions'] = len(df[df['Participation'] > 5])\n",
    "    report_df['Total attendance'] = int(df['Participation'].sum())\n",
    "\n",
    "    seasons_list = sorted(df0.Season.unique())\n",
    "    past_seasons_filter = df.Season != seasons_list[-1]\n",
    "    past_seasons_df = df[past_seasons_filter]\n",
    "    participation_filter = past_seasons_df['Participation'] > 0\n",
    "    completion_filter = past_seasons_df['Participation'] > 5\n",
    "    if len(past_seasons_df) > 0:\n",
    "        report_df['Mean attendance'] = df['Participation'].mean().round(1)\n",
    "        report_df['Dropout'] = (len(past_seasons_df) - len(past_seasons_df[participation_filter])) / len(past_seasons_df) * 100\n",
    "        report_df['Completions rate'] = len(past_seasons_df[completion_filter]) / len(past_seasons_df) * 100\n",
    "        report_df['Dropout'] = report_df.Dropout.round(1)\n",
    "        report_df['Completions rate'] = report_df['Completions rate'].round(1)\n",
    "    else:\n",
    "        report_df[['Dropout','Mean attendance','Completions rate','Participants','Completions','Total attendance']] = \"\"\n",
    "\n",
    "    return report_df\n",
    "\n",
    "report(df,\"All seasons\")"
   ]
  },
  {
   "cell_type": "code",
   "execution_count": 57,
   "metadata": {},
   "outputs": [
    {
     "data": {
      "text/html": [
       "<div>\n",
       "<style scoped>\n",
       "    .dataframe tbody tr th:only-of-type {\n",
       "        vertical-align: middle;\n",
       "    }\n",
       "\n",
       "    .dataframe tbody tr th {\n",
       "        vertical-align: top;\n",
       "    }\n",
       "\n",
       "    .dataframe thead th {\n",
       "        text-align: right;\n",
       "    }\n",
       "</style>\n",
       "<table border=\"1\" class=\"dataframe\">\n",
       "  <thead>\n",
       "    <tr style=\"text-align: right;\">\n",
       "      <th></th>\n",
       "      <th>Applications</th>\n",
       "      <th>Participants</th>\n",
       "      <th>Completions</th>\n",
       "      <th>Total attendance</th>\n",
       "      <th>Mean attendance</th>\n",
       "      <th>Dropout</th>\n",
       "      <th>Completions rate</th>\n",
       "    </tr>\n",
       "  </thead>\n",
       "  <tbody>\n",
       "    <tr>\n",
       "      <th>2021 spring</th>\n",
       "      <td>42</td>\n",
       "      <td>30</td>\n",
       "      <td>24</td>\n",
       "      <td>199</td>\n",
       "      <td>4.9</td>\n",
       "      <td>28.6</td>\n",
       "      <td>57.1</td>\n",
       "    </tr>\n",
       "    <tr>\n",
       "      <th>2021 fall</th>\n",
       "      <td>33</td>\n",
       "      <td>23</td>\n",
       "      <td>16</td>\n",
       "      <td>133</td>\n",
       "      <td>4.6</td>\n",
       "      <td>30.3</td>\n",
       "      <td>48.5</td>\n",
       "    </tr>\n",
       "    <tr>\n",
       "      <th>2022 spring</th>\n",
       "      <td>44</td>\n",
       "      <td>28</td>\n",
       "      <td>20</td>\n",
       "      <td>167</td>\n",
       "      <td>3.8</td>\n",
       "      <td>36.4</td>\n",
       "      <td>45.5</td>\n",
       "    </tr>\n",
       "    <tr>\n",
       "      <th>2022 fall</th>\n",
       "      <td>51</td>\n",
       "      <td>36</td>\n",
       "      <td>16</td>\n",
       "      <td>183</td>\n",
       "      <td>3.8</td>\n",
       "      <td>29.4</td>\n",
       "      <td>31.4</td>\n",
       "    </tr>\n",
       "    <tr>\n",
       "      <th>2023 spring</th>\n",
       "      <td>77</td>\n",
       "      <td>54</td>\n",
       "      <td>31</td>\n",
       "      <td>273</td>\n",
       "      <td>3.6</td>\n",
       "      <td>29.9</td>\n",
       "      <td>40.3</td>\n",
       "    </tr>\n",
       "    <tr>\n",
       "      <th>2023 fall</th>\n",
       "      <td>23</td>\n",
       "      <td></td>\n",
       "      <td></td>\n",
       "      <td></td>\n",
       "      <td></td>\n",
       "      <td></td>\n",
       "      <td></td>\n",
       "    </tr>\n",
       "  </tbody>\n",
       "</table>\n",
       "</div>"
      ],
      "text/plain": [
       "             Applications Participants Completions Total attendance  \\\n",
       "2021 spring            42           30          24              199   \n",
       "2021 fall              33           23          16              133   \n",
       "2022 spring            44           28          20              167   \n",
       "2022 fall              51           36          16              183   \n",
       "2023 spring            77           54          31              273   \n",
       "2023 fall              23                                             \n",
       "\n",
       "            Mean attendance Dropout Completions rate  \n",
       "2021 spring             4.9    28.6             57.1  \n",
       "2021 fall               4.6    30.3             48.5  \n",
       "2022 spring             3.8    36.4             45.5  \n",
       "2022 fall               3.8    29.4             31.4  \n",
       "2023 spring             3.6    29.9             40.3  \n",
       "2023 fall                                             "
      ]
     },
     "execution_count": 57,
     "metadata": {},
     "output_type": "execute_result"
    }
   ],
   "source": [
    "def report_column(column, df):\n",
    "    \n",
    "    split_column = df[column].str.split(', ')\n",
    "    items_list = split_column.explode().value_counts().reset_index()\n",
    "    items_list.columns = ['Item', 'Count']\n",
    "    items_list = items_list.Item.sort_values()\n",
    "\n",
    "    reports = []\n",
    "    for i in items_list:\n",
    "        filter = df[column].str.find(i) > -1\n",
    "        reports.append(report(df[filter], i))\n",
    "\n",
    "    report_df = pd.concat(reports)\n",
    "    return report_df\n",
    "\n",
    "\n",
    "report_df = report_column(\"Season\", df)\n",
    "report_df.index = report_df.index.str.replace(\"jaro\", \"spring\").str.replace(\"podzim\", \"fall\")\n",
    "report_df"
   ]
  },
  {
   "cell_type": "markdown",
   "metadata": {},
   "source": [
    "## Spring 2023 Fellowships Evaluation\n",
    "\n",
    "The last run of our EA fellowships was historically by far the most successful in terms of number of applications (77) and participants (54) (see figure 1). We hit the record also in number of people who attended 6 or more sessions in a seminar (31). \n",
    "\n",
    "But we could improve in completion rate (the percentage of people who get from the apllication to attending 6 or more sessions in a seminar), which was 40% - better than the previous run, but significantly worse than in our first fellowship runs (see Figure 2). "
   ]
  },
  {
   "cell_type": "code",
   "execution_count": 4,
   "metadata": {},
   "outputs": [
    {
     "data": {
      "text/plain": [
       "<Axes: >"
      ]
     },
     "execution_count": 4,
     "metadata": {},
     "output_type": "execute_result"
    },
    {
     "data": {
      "image/png": "[encoded data removed]",
      "text/plain": [
       "<Figure size 640x480 with 1 Axes>"
      ]
     },
     "metadata": {},
     "output_type": "display_data"
    }
   ],
   "source": [
    "report_df = report_df.rename(columns={\"Completions\":\"Completions (6 or more sessions)\"})\n",
    "report_df[[\"Applications\", \"Participants\", \"Completions (6 or more sessions)\"]].drop(\"2023 fall\").plot.bar()"
   ]
  },
  {
   "cell_type": "code",
   "execution_count": 5,
   "metadata": {},
   "outputs": [
    {
     "data": {
      "text/plain": [
       "<Axes: >"
      ]
     },
     "execution_count": 5,
     "metadata": {},
     "output_type": "execute_result"
    },
    {
     "data": {
      "image/png": "[encoded data removed]",
      "text/plain": [
       "<Figure size 640x480 with 1 Axes>"
      ]
     },
     "metadata": {},
     "output_type": "display_data"
    }
   ],
   "source": [
    "report_df[\"Completions rate\"].drop(\"2023 fall\").plot.bar()"
   ]
  },
  {
   "cell_type": "code",
   "execution_count": null,
   "metadata": {},
   "outputs": [],
   "source": [
    "\n",
    "data_file = \"Untitled spreadsheet - Sheet3.tsv\"\n",
    "columns_file = \"Untitled spreadsheet - Sheet4.tsv\"\n",
    "#df0 = get_data(data_file, columns_file)\n",
    "\n",
    "def update_df(df, df0):\n",
    "    rows = []\n",
    "    for r in range(len(df0)):\n",
    "        if df0.iloc[df0.last_valid_index()-r].Email == df.iloc[df.last_valid_index()].Email:\n",
    "            return pd.concat([df,pd.DataFrame(rows)],ignore_index=True)\n",
    "        else:\n",
    "            rows.insert(0,pd.Series(df0.iloc[df0.last_valid_index()-r],index=df.columns))\n",
    "            rows[0].Run = \"2023 podzim\"\n",
    "    return pd.concat([df,pd.DataFrame(rows)],ignore_index=True)\n",
    "\n",
    "#df = update_df(df, df0)"
   ]
  }
 ],
 "metadata": {
  "kernelspec": {
   "display_name": "Python 3",
   "language": "python",
   "name": "python3"
  },
  "language_info": {
   "codemirror_mode": {
    "name": "ipython",
    "version": 3
   },
   "file_extension": ".py",
   "mimetype": "text/x-python",
   "name": "python",
   "nbconvert_exporter": "python",
   "pygments_lexer": "ipython3",
   "version": "3.10.8"
  },
  "orig_nbformat": 4
 },
 "nbformat": 4,
 "nbformat_minor": 2
}
