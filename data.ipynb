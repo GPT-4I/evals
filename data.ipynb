{
 "cells": [
  {
   "cell_type": "code",
   "execution_count": null,
   "metadata": {},
   "outputs": [],
   "source": [
    "import pandas as pd\n",
    "import os\n",
    "\n",
    "def get_data(data_file, columns_file):\n",
    "    input_path = os.path.join(os.getcwd(), \"datasets\")\n",
    "    columns = pd.read_csv(os.path.join(input_path, columns_file), sep=\"\\t\", header=None)\n",
    "    columns = columns[0].str.partition(\" (from \")[0].tolist()\n",
    "    columns.insert(0, \"Name\")\n",
    "    return pd.read_csv(os.path.join(input_path, data_file), sep=\"\\t\", names=columns)\n",
    "\n",
    "data_file = \"Untitled spreadsheet - Sheet1.tsv\"\n",
    "columns_file = \"Untitled spreadsheet - Sheet2.tsv\"\n",
    "df = get_data(data_file, columns_file)\n",
    "\n",
    "data_file = \"Untitled spreadsheet - Sheet3.tsv\"\n",
    "columns_file = \"Untitled spreadsheet - Sheet4.tsv\"\n",
    "df0 = get_data(data_file, columns_file)\n",
    "\n",
    "def update_df(df, df0):\n",
    "    rows = []\n",
    "    for r in range(len(df0)):\n",
    "        if df0.iloc[df0.last_valid_index()-r].Email == df.iloc[df.last_valid_index()].Email:\n",
    "            return pd.concat([df,pd.DataFrame(rows)],ignore_index=True)\n",
    "        else:\n",
    "            rows.insert(0,pd.Series(df0.iloc[df0.last_valid_index()-r],index=df.columns))\n",
    "            rows[0].Run = \"2023 podzim\"\n",
    "    return pd.concat([df,pd.DataFrame(rows)],ignore_index=True)\n",
    "\n",
    "df = update_df(df, df0)"
   ]
  },
  {
   "cell_type": "code",
   "execution_count": 51,
   "metadata": {},
   "outputs": [
    {
     "data": {
      "text/plain": [
       "Applications    266.000000\n",
       "Participants    171.000000\n",
       "Dropout          35.714286\n",
       "dtype: float64"
      ]
     },
     "execution_count": 51,
     "metadata": {},
     "output_type": "execute_result"
    }
   ],
   "source": [
    "report = pd.Series(dtype=int)\n",
    "report['Applications'] = (len(df))\n",
    "report['Participants'] = (len(df[df['Participation'] > 0]))\n",
    "report['Dropout'] = (report['Applications'] - report['Participants']) / report['Applications']\n",
    "\n",
    "report\n"
   ]
  },
  {
   "cell_type": "code",
   "execution_count": 43,
   "metadata": {},
   "outputs": [
    {
     "data": {
      "text/plain": [
       "266.0"
      ]
     },
     "execution_count": 43,
     "metadata": {},
     "output_type": "execute_result"
    }
   ],
   "source": [
    "report.Applications.astype(int)"
   ]
  },
  {
   "cell_type": "code",
   "execution_count": null,
   "metadata": {},
   "outputs": [],
   "source": [
    "report.Applications = report.Applications.astype(int)"
   ]
  },
  {
   "cell_type": "code",
   "execution_count": null,
   "metadata": {},
   "outputs": [],
   "source": [
    "    \n",
    "    {\n",
    "    \"Applications\": len(df),\n",
    "    \"Participants\": len(df.Participation[df.Participation > 0]),\n",
    "    \"Dropout\": len(df.Participation[df.Participation > 0])/len(df),\n",
    "    },dtype=int)\n",
    "print(report)"
   ]
  },
  {
   "cell_type": "code",
   "execution_count": null,
   "metadata": {},
   "outputs": [],
   "source": [
    "report.Applications.astype(int)"
   ]
  }
 ],
 "metadata": {
  "kernelspec": {
   "display_name": "Python 3",
   "language": "python",
   "name": "python3"
  },
  "language_info": {
   "codemirror_mode": {
    "name": "ipython",
    "version": 3
   },
   "file_extension": ".py",
   "mimetype": "text/x-python",
   "name": "python",
   "nbconvert_exporter": "python",
   "pygments_lexer": "ipython3",
   "version": "3.10.8"
  },
  "orig_nbformat": 4
 },
 "nbformat": 4,
 "nbformat_minor": 2
}
