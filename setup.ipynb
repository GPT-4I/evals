{
 "cells": [
  {
   "cell_type": "code",
   "execution_count": 4,
   "metadata": {},
   "outputs": [],
   "source": [
    "!cd evals\n",
    "!git lfs fetch --all\n",
    "!git lfs pull\n",
    "!pip install -e ."
   ]
  },
  {
   "cell_type": "code",
   "execution_count": null,
   "metadata": {},
   "outputs": [],
   "source": [
    "!oaieval gpt-3.5-turbo test-match"
   ]
  },
  {
   "cell_type": "code",
   "execution_count": null,
   "metadata": {},
   "outputs": [],
   "source": [
    "import os\n",
    "os.makedirs(\"/workspaces/evals/dataset\", exist_ok=True)\n",
    "os.makedirs(\"/workspaces/evals/evallogs\", exist_ok=True)"
   ]
  },
  {
   "cell_type": "code",
   "execution_count": null,
   "metadata": {},
   "outputs": [],
   "source": [
    "\n",
    "import yaml\n",
    "\n",
    "registry_path = \"/workspaces/evals/evals/registry\"\n",
    "\n",
    "# Battle registry yaml\n",
    "\n",
    "registry_yaml = {}\n",
    "registry_yaml[\"battle\"] = {\n",
    "    \"id\": \"battle.test.v1\",\n",
    "    \"metrics\": [\"accuracy\"]\n",
    "}\n",
    "registry_yaml[\"battle.test.v1\"] = {\n",
    "    \"class\": \"evals.elsuite.modelgraded.classify:ModelBasedClassify\",\n",
    "    \"args\": {\n",
    "        \"samples_jsonl\": \"battle/samples.jsonl\",\n",
    "        \"eval_type\": \"cot_classify\",\n",
    "        \"modelgraded_spec\": \"battle\",\n",
    "        \"sample_kwargs\":\n",
    "            {\"temperature\": 0.0}  }\n",
    "}\n",
    "\n",
    "with open(os.path.join(registry_path, \"evals\", \"battle.yaml\"), \"w\") as f:\n",
    "    yaml.dump(registry_yaml, f)\n",
    "\n",
    "battle_path = os.path.join(registry_path, \"data\", \"battle\")\n",
    "os.makedirs(battle_path, exist_ok=True)\n",
    "\n",
    "\n",
    "# Match registry yaml\n",
    "\n",
    "registry_yaml = {}\n",
    "registry_yaml[\"match\"] = {\n",
    "    \"id\": \"match.test.v1\",\n",
    "    \"metrics\": [\"accuracy\"]\n",
    "}\n",
    "registry_yaml[\"match.test.v1\"] = {\n",
    "    \"class\": \"evals.elsuite.basic.sample_match:Match\",\n",
    "    \"args\": {\n",
    "        \"samples_jsonl\": \"match/samples.jsonl\",\n",
    "    }\n",
    "}\n",
    "\n",
    "with open(os.path.join(registry_path, \"evals\", \"match.yaml\"), \"w\") as f:\n",
    "    yaml.dump(registry_yaml, f)"
   ]
  },
  {
   "cell_type": "code",
   "execution_count": 32,
   "metadata": {},
   "outputs": [],
   "source": [
    "import pandas as pd\n",
    "import os\n",
    "\n",
    "df = pd.DataFrame({\n",
    "    \"best_response\": [\"\"],\n",
    "    \"best_response_input\": [\"\"],\n",
    "    \"dataset\": [[\"\",None,[]]],\n",
    "    \"test_dataset\": [[\"\",None,[]]],\n",
    "    \"battles\": [None],\n",
    "    \"n_responses\": [0],\n",
    "    \"test_match_dataset\": [None],\n",
    "})\n",
    "\n",
    "for column in df.columns:\n",
    "    df[column].to_json(os.path.join(\"/workspaces/evals/dataset\", column), lines=True, orient=\"records\")"
   ]
  }
 ],
 "metadata": {
  "kernelspec": {
   "display_name": "Python 3",
   "language": "python",
   "name": "python3"
  },
  "language_info": {
   "codemirror_mode": {
    "name": "ipython",
    "version": 3
   },
   "file_extension": ".py",
   "mimetype": "text/x-python",
   "name": "python",
   "nbconvert_exporter": "python",
   "pygments_lexer": "ipython3",
   "version": "3.10.8"
  },
  "orig_nbformat": 4
 },
 "nbformat": 4,
 "nbformat_minor": 2
}
